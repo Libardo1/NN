{
  "nbformat": 4,
  "nbformat_minor": 0,
  "metadata": {
    "colab": {
      "name": "Intro to neutrosophic stats and linear equations.ipynb",
      "version": "0.3.2",
      "provenance": [],
      "include_colab_link": true
    },
    "kernelspec": {
      "name": "python3",
      "display_name": "Python 3"
    }
  },
  "cells": [
    {
      "cell_type": "markdown",
      "metadata": {
        "id": "view-in-github",
        "colab_type": "text"
      },
      "source": [
        "<a href=\"https://colab.research.google.com/github/mleyvaz/NN/blob/master/Intro_to_neutrosophic_stats_and_linear_equations.ipynb\" target=\"_parent\"><img src=\"https://colab.research.google.com/assets/colab-badge.svg\" alt=\"Open In Colab\"/></a>"
      ]
    },
    {
      "metadata": {
        "id": "vdFk-30x8_57",
        "colab_type": "text"
      },
      "cell_type": "markdown",
      "source": [
        "# Computación neutrosófica mediante Sympy \n",
        "\n",
        "Paper at:[Computación neutrosófica mediante Sympy](http://fs.unm.edu/NCML/ComputacionNeutrosoficaMediante.pdf)\n"
      ]
    },
    {
      "metadata": {
        "id": "WQw8UHR9Oa18",
        "colab_type": "text"
      },
      "cell_type": "markdown",
      "source": [
        "## Introduccion a los números neutrosóficos"
      ]
    },
    {
      "metadata": {
        "id": "nqrA4xE49CI4",
        "colab_type": "code",
        "colab": {}
      },
      "cell_type": "code",
      "source": [
        "from sympy import var"
      ],
      "execution_count": 0,
      "outputs": []
    },
    {
      "metadata": {
        "id": "kQeom-I4aqeu",
        "colab_type": "code",
        "outputId": "0e82700d-9ecb-4857-d602-c97e9fc3bc69",
        "colab": {
          "base_uri": "https://localhost:8080/",
          "height": 34
        }
      },
      "cell_type": "code",
      "source": [
        "i = var('i')\n",
        "i+2"
      ],
      "execution_count": 0,
      "outputs": [
        {
          "output_type": "execute_result",
          "data": {
            "text/plain": [
              "i + 2"
            ]
          },
          "metadata": {
            "tags": []
          },
          "execution_count": 3
        }
      ]
    },
    {
      "metadata": {
        "id": "0KaJbs57dGqJ",
        "colab_type": "text"
      },
      "cell_type": "markdown",
      "source": [
        "# Múltiplicación por un escalar "
      ]
    },
    {
      "metadata": {
        "id": "_69MmndTdQKK",
        "colab_type": "code",
        "outputId": "1017beaf-9666-487e-f504-58acaa15fa26",
        "colab": {
          "base_uri": "https://localhost:8080/",
          "height": 34
        }
      },
      "cell_type": "code",
      "source": [
        "2*(2+i)\n",
        "\n"
      ],
      "execution_count": 0,
      "outputs": [
        {
          "output_type": "execute_result",
          "data": {
            "text/plain": [
              "2*i + 4"
            ]
          },
          "metadata": {
            "tags": []
          },
          "execution_count": 4
        }
      ]
    },
    {
      "metadata": {
        "id": "EfH1NST6dYdN",
        "colab_type": "text"
      },
      "cell_type": "markdown",
      "source": [
        "#  De-neutrosificación  con mpmath\n",
        "\n",
        "Ejercicio. Realice la de-neutrosoficacion del número $ 3+2*i $\n",
        "\n",
        "con $i{\\in}[10,30]$ Utilice la libreria mpmath"
      ]
    },
    {
      "metadata": {
        "id": "epE7GZpac5yD",
        "colab_type": "code",
        "outputId": "daa7801a-fbbb-4ece-ec69-0e2504500f17",
        "colab": {
          "base_uri": "https://localhost:8080/",
          "height": 34
        }
      },
      "cell_type": "code",
      "source": [
        "from mpmath import *\n",
        "mp.dps = 15 #Establece la precisión \n",
        "i=mpi(10, 30)\n",
        "3 + 2*i"
      ],
      "execution_count": 0,
      "outputs": [
        {
          "output_type": "execute_result",
          "data": {
            "text/plain": [
              "mpi('23.0', '63.0')"
            ]
          },
          "metadata": {
            "tags": []
          },
          "execution_count": 5
        }
      ]
    },
    {
      "metadata": {
        "id": "nirJ2mSTdnlx",
        "colab_type": "code",
        "outputId": "7f0f4d11-0292-4ff4-9661-b7d35d19fdce",
        "colab": {
          "base_uri": "https://localhost:8080/",
          "height": 34
        }
      },
      "cell_type": "code",
      "source": [
        "mp.dps = 15 #Establece la precisión \n",
        "i=mpi(2, 3)\n",
        "2*i + 4"
      ],
      "execution_count": 0,
      "outputs": [
        {
          "output_type": "execute_result",
          "data": {
            "text/plain": [
              "mpi('8.0', '10.0')"
            ]
          },
          "metadata": {
            "tags": []
          },
          "execution_count": 6
        }
      ]
    },
    {
      "metadata": {
        "id": "rmn0wRSA_wZQ",
        "colab_type": "text"
      },
      "cell_type": "markdown",
      "source": [
        "Matrices neutrosóficas\n",
        "\n",
        "Resolver el siguiente sistema de ecuaciones lineales. \n",
        "* $ x + 4 y =  2$\n",
        "\n",
        "* $-2 x +   y = 14$"
      ]
    },
    {
      "metadata": {
        "id": "gSgiIj8hpWNT",
        "colab_type": "code",
        "outputId": "d02cd77e-2251-4a44-ad3d-699da3aed01a",
        "colab": {
          "base_uri": "https://localhost:8080/",
          "height": 34
        }
      },
      "cell_type": "code",
      "source": [
        "from sympy import Matrix, solve_linear_system\n",
        "from sympy.abc import x, y\n",
        "i = var('i')\n",
        "system = Matrix(( (1, 4, 2), (-2, 1, 14)))\n",
        "solve_linear_system(system, x, y)\n",
        "\n"
      ],
      "execution_count": 0,
      "outputs": [
        {
          "output_type": "execute_result",
          "data": {
            "text/plain": [
              "{x: -6, y: 2}"
            ]
          },
          "metadata": {
            "tags": []
          },
          "execution_count": 7
        }
      ]
    },
    {
      "metadata": {
        "id": "epvaa9U-wUK3",
        "colab_type": "text"
      },
      "cell_type": "markdown",
      "source": [
        "#Introduciendo indeterminación\n",
        "Resolver el siguiente sistema de ecuaciones lineales. \n",
        "* $ x + 4 y =  2+i$\n",
        "\n",
        "* $-2 x +   y = 14+i$"
      ]
    },
    {
      "metadata": {
        "id": "0lbNWTQapLmH",
        "colab_type": "code",
        "colab": {}
      },
      "cell_type": "code",
      "source": [
        ""
      ],
      "execution_count": 0,
      "outputs": []
    },
    {
      "metadata": {
        "id": "rGTZ3Y7ZpuGC",
        "colab_type": "code",
        "outputId": "08fabd13-c9af-4bb8-8ba3-9a00014d1a7f",
        "colab": {
          "base_uri": "https://localhost:8080/",
          "height": 34
        }
      },
      "cell_type": "code",
      "source": [
        "\n",
        "from sympy import Matrix, solve_linear_system\n",
        "from sympy.abc import x, y\n",
        "i = var('i')\n",
        "system = Matrix(( (1, 4, 2+i), (-2, 1, 14+i)))\n",
        "solve_linear_system(system, x, y)\n"
      ],
      "execution_count": 0,
      "outputs": [
        {
          "output_type": "execute_result",
          "data": {
            "text/plain": [
              "{x: -i/3 - 6, y: i/3 + 2}"
            ]
          },
          "metadata": {
            "tags": []
          },
          "execution_count": 8
        }
      ]
    },
    {
      "metadata": {
        "id": "NTsxz1mlyv5y",
        "colab_type": "text"
      },
      "cell_type": "markdown",
      "source": [
        "![Flujo Vehicular](https://github.com/mleyvaz/NN/blob/master/img/flujo%20vehicular.png?raw=true)"
      ]
    },
    {
      "metadata": {
        "id": "BRdVwieSpQuL",
        "colab_type": "code",
        "outputId": "73c8d2ae-3c5e-4263-bc6b-91fc0fefb880",
        "colab": {
          "base_uri": "https://localhost:8080/",
          "height": 34
        }
      },
      "cell_type": "code",
      "source": [
        "from sympy import Matrix, solve_linear_system\n",
        "from sympy.abc import x, y, z\n",
        "\n",
        "system = Matrix(( (1,0,0, 1100), (1, 1, 0, 1300), (0, 1, 2,3400)))\n",
        "\n",
        "solve_linear_system(system, x, y, z)"
      ],
      "execution_count": 0,
      "outputs": [
        {
          "output_type": "execute_result",
          "data": {
            "text/plain": [
              "{x: 1100, y: 200, z: 1600}"
            ]
          },
          "metadata": {
            "tags": []
          },
          "execution_count": 9
        }
      ]
    },
    {
      "metadata": {
        "id": "i_x49w2JR4l_",
        "colab_type": "code",
        "outputId": "ed3cbdfd-81f4-461b-b2e8-98db42b46ce3",
        "colab": {
          "base_uri": "https://localhost:8080/",
          "height": 34
        }
      },
      "cell_type": "code",
      "source": [
        "from sympy import Matrix, solve_linear_system\n",
        "from sympy.abc import x, y, z\n",
        "\n",
        "system = Matrix(( (1,0,0, 1100-i), (1, 1, 0, 1300), (0, 1, 2,3400-i)))\n",
        "\n",
        "solve_linear_system(system, x, y, z)"
      ],
      "execution_count": 0,
      "outputs": [
        {
          "output_type": "execute_result",
          "data": {
            "text/plain": [
              "{x: -i + 1100, y: i + 200, z: -i + 1600}"
            ]
          },
          "metadata": {
            "tags": []
          },
          "execution_count": 10
        }
      ]
    },
    {
      "metadata": {
        "id": "AYD_miEDOdbd",
        "colab_type": "text"
      },
      "cell_type": "markdown",
      "source": [
        "Cite: Leyva-Vázquez, M., & Smarandache, F. (2018). Computación neutrosófica mediante Sympy. Neutrosophic Computing and Machine Learning, 04, 16-21. doi: 10.5281/zenodo.2139584\n",
        "\n"
      ]
    }
  ]
}