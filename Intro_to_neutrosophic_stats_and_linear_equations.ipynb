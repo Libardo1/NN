{
  "nbformat": 4,
  "nbformat_minor": 0,
  "metadata": {
    "colab": {
      "name": "Intro to neutrosophic stats and linear equations.ipynb",
      "version": "0.3.2",
      "provenance": [],
      "include_colab_link": true
    },
    "kernelspec": {
      "name": "python3",
      "display_name": "Python 3"
    }
  },
  "cells": [
    {
      "cell_type": "markdown",
      "metadata": {
        "id": "view-in-github",
        "colab_type": "text"
      },
      "source": [
        "<a href=\"https://colab.research.google.com/github/mleyvaz/NN/blob/master/Intro_to_neutrosophic_stats_and_linear_equations.ipynb\" target=\"_parent\"><img src=\"https://colab.research.google.com/assets/colab-badge.svg\" alt=\"Open In Colab\"/></a>"
      ]
    },
    {
      "metadata": {
        "id": "kRoqL35EaWu9",
        "colab_type": "code",
        "colab": {}
      },
      "cell_type": "code",
      "source": [
        "from sympy import var"
      ],
      "execution_count": 0,
      "outputs": []
    },
    {
      "metadata": {
        "id": "kQeom-I4aqeu",
        "colab_type": "code",
        "outputId": "ee55c83f-9cb5-4a22-fe1a-0aad022b971a",
        "colab": {
          "base_uri": "https://localhost:8080/",
          "height": 34
        }
      },
      "cell_type": "code",
      "source": [
        "i = var('i')\n",
        "i+2"
      ],
      "execution_count": 0,
      "outputs": [
        {
          "output_type": "execute_result",
          "data": {
            "text/plain": [
              "i + 2"
            ]
          },
          "metadata": {
            "tags": []
          },
          "execution_count": 3
        }
      ]
    },
    {
      "metadata": {
        "id": "0KaJbs57dGqJ",
        "colab_type": "text"
      },
      "cell_type": "markdown",
      "source": [
        "# Múltiplicación por un escalar "
      ]
    },
    {
      "metadata": {
        "id": "_69MmndTdQKK",
        "colab_type": "code",
        "outputId": "20b723d6-4db1-4e9c-b33e-397c15e485a2",
        "colab": {
          "base_uri": "https://localhost:8080/",
          "height": 34
        }
      },
      "cell_type": "code",
      "source": [
        "2*(2+i)\n",
        "\n"
      ],
      "execution_count": 0,
      "outputs": [
        {
          "output_type": "execute_result",
          "data": {
            "text/plain": [
              "2*i + 4"
            ]
          },
          "metadata": {
            "tags": []
          },
          "execution_count": 4
        }
      ]
    },
    {
      "metadata": {
        "id": "EfH1NST6dYdN",
        "colab_type": "text"
      },
      "cell_type": "markdown",
      "source": [
        "#  De-neutrosificación  con mpmath\n",
        "\n",
        "Ejercicio. Realice la de-neutrosoficacion del número $ 3+2*i $\n",
        "\n",
        "con $i{\\in}[10,30]$ Utilice la libreria mpmath"
      ]
    },
    {
      "metadata": {
        "id": "epE7GZpac5yD",
        "colab_type": "code",
        "outputId": "3fafb8bf-50f2-44a7-89d6-cc6ad7cc8fc6",
        "colab": {
          "base_uri": "https://localhost:8080/",
          "height": 34
        }
      },
      "cell_type": "code",
      "source": [
        "from mpmath import *\n",
        "mp.dps = 15 #Establece la precisión \n",
        "i=mpi(10, 30)\n",
        "3 + 2*i"
      ],
      "execution_count": 0,
      "outputs": [
        {
          "output_type": "execute_result",
          "data": {
            "text/plain": [
              "mpi('23.0', '63.0')"
            ]
          },
          "metadata": {
            "tags": []
          },
          "execution_count": 5
        }
      ]
    },
    {
      "metadata": {
        "id": "nirJ2mSTdnlx",
        "colab_type": "code",
        "outputId": "03990605-20bb-417d-8d01-57ec9fdc74be",
        "colab": {
          "base_uri": "https://localhost:8080/",
          "height": 34
        }
      },
      "cell_type": "code",
      "source": [
        "mp.dps = 15 #Establece la precisión \n",
        "i=mpi(2, 3)\n",
        "2*i + 4"
      ],
      "execution_count": 0,
      "outputs": [
        {
          "output_type": "execute_result",
          "data": {
            "text/plain": [
              "mpi('8.0', '10.0')"
            ]
          },
          "metadata": {
            "tags": []
          },
          "execution_count": 6
        }
      ]
    },
    {
      "metadata": {
        "id": "rmn0wRSA_wZQ",
        "colab_type": "text"
      },
      "cell_type": "markdown",
      "source": [
        "Matrices neutrosóficas\n",
        "\n",
        "Resolver el siguiente sistema de ecuaciones lineales. \n",
        "* $ x + 4 y =  2$\n",
        "\n",
        "* $-2 x +   y = 14$"
      ]
    },
    {
      "metadata": {
        "id": "gSgiIj8hpWNT",
        "colab_type": "code",
        "outputId": "2002a3ca-0ede-4a5c-8f11-1a85493cd3ce",
        "colab": {
          "base_uri": "https://localhost:8080/",
          "height": 34
        }
      },
      "cell_type": "code",
      "source": [
        "from sympy import Matrix, solve_linear_system\n",
        "from sympy.abc import x, y\n",
        "i = var('i')\n",
        "system = Matrix(( (1, 4, 2), (-2, 1, 14)))\n",
        "solve_linear_system(system, x, y)\n",
        "\n"
      ],
      "execution_count": 0,
      "outputs": [
        {
          "output_type": "execute_result",
          "data": {
            "text/plain": [
              "{x: -6, y: 2}"
            ]
          },
          "metadata": {
            "tags": []
          },
          "execution_count": 7
        }
      ]
    },
    {
      "metadata": {
        "id": "epvaa9U-wUK3",
        "colab_type": "text"
      },
      "cell_type": "markdown",
      "source": [
        "#Introduciendo indeterminación\n",
        "Resolver el siguiente sistema de ecuaciones lineales. \n",
        "* $ x + 4 y =  2+i$\n",
        "\n",
        "* $-2 x +   y = 14+i$"
      ]
    },
    {
      "metadata": {
        "id": "0lbNWTQapLmH",
        "colab_type": "code",
        "colab": {}
      },
      "cell_type": "code",
      "source": [
        ""
      ],
      "execution_count": 0,
      "outputs": []
    },
    {
      "metadata": {
        "id": "rGTZ3Y7ZpuGC",
        "colab_type": "code",
        "outputId": "d76d580a-4908-42e7-b925-4bf2b9a0b9f3",
        "colab": {
          "base_uri": "https://localhost:8080/",
          "height": 34
        }
      },
      "cell_type": "code",
      "source": [
        "\n",
        "from sympy import Matrix, solve_linear_system\n",
        "from sympy.abc import x, y\n",
        "i = var('i')\n",
        "system = Matrix(( (1, 4, 2+i), (-2, 1, 14+i)))\n",
        "solve_linear_system(system, x, y)\n"
      ],
      "execution_count": 0,
      "outputs": [
        {
          "output_type": "execute_result",
          "data": {
            "text/plain": [
              "{x: -i/3 - 6, y: i/3 + 2}"
            ]
          },
          "metadata": {
            "tags": []
          },
          "execution_count": 8
        }
      ]
    },
    {
      "metadata": {
        "id": "NTsxz1mlyv5y",
        "colab_type": "text"
      },
      "cell_type": "markdown",
      "source": [
        "![Flujo Vehicular](https://github.com/mleyvaz/NN/blob/master/img/flujo%20vehicular.png?raw=true)"
      ]
    },
    {
      "metadata": {
        "id": "BRdVwieSpQuL",
        "colab_type": "code",
        "outputId": "39cb52d6-9f6a-4a52-d084-beebc73c9673",
        "colab": {
          "base_uri": "https://localhost:8080/",
          "height": 34
        }
      },
      "cell_type": "code",
      "source": [
        "from sympy import Matrix, solve_linear_system\n",
        "from sympy.abc import x, y, z\n",
        "\n",
        "system = Matrix(( (1,0,0, 1100), (1, 1, 0, 1300), (0, 1, 2,3400)))\n",
        "\n",
        "solve_linear_system(system, x, y, z)"
      ],
      "execution_count": 0,
      "outputs": [
        {
          "output_type": "execute_result",
          "data": {
            "text/plain": [
              "{x: 1100, y: 200, z: 1600}"
            ]
          },
          "metadata": {
            "tags": []
          },
          "execution_count": 9
        }
      ]
    },
    {
      "metadata": {
        "id": "i_x49w2JR4l_",
        "colab_type": "code",
        "outputId": "851fd937-7e4a-4ad9-8448-ec639afe79c9",
        "colab": {
          "base_uri": "https://localhost:8080/",
          "height": 54
        }
      },
      "cell_type": "code",
      "source": [
        "from sympy import Matrix, solve_linear_system\n",
        "from sympy.abc import x, y, z\n",
        "\n",
        "system = Matrix(( (1,0,0, 1100-i), (1, 1, 0, 1300), (0, 1, 2,3400-i)))\n",
        "\n",
        "solve_linear_system(system, x, y, z)"
      ],
      "execution_count": 0,
      "outputs": [
        {
          "output_type": "execute_result",
          "data": {
            "text/plain": [
              "{x: -i + 1100, y: i + 200, z: -i + 1600}"
            ]
          },
          "metadata": {
            "tags": []
          },
          "execution_count": 10
        }
      ]
    },
    {
      "metadata": {
        "id": "imaxKDyuUhri",
        "colab_type": "code",
        "colab": {}
      },
      "cell_type": "code",
      "source": [
        ""
      ],
      "execution_count": 0,
      "outputs": []
    }
  ]
}